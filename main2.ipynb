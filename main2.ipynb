{
 "cells": [
  {
   "cell_type": "code",
   "execution_count": 79,
   "metadata": {},
   "outputs": [],
   "source": [
    "\n",
    "\n",
    "from modules import EncoderNet,DecoderNet,DiscriminatorNet_reconstruction,GeneratorNet,TransNet,DiscriminatorNet_feature\n",
    "from functional import noise\n",
    "from train import train,eval_generate\n",
    "import resnet\n",
    "\n",
    "\n",
    "import invresnet\n",
    "import matplotlib.pylab as plt\n",
    "\n",
    "from dataload import load_data ,batchfy \n",
    "from torchsummary import summary\n",
    "import torch\n",
    "from torch import nn,optim"
   ]
  },
  {
   "cell_type": "code",
   "execution_count": 35,
   "metadata": {},
   "outputs": [],
   "source": [
    "\n",
    "\n",
    "device = torch.device(\"cuda:0\" if torch.cuda.is_available() else \"cpu\")\n",
    "torch.set_default_tensor_type(torch.cuda.FloatTensor)"
   ]
  },
  {
   "cell_type": "code",
   "execution_count": 36,
   "metadata": {},
   "outputs": [
    {
     "name": "stdout",
     "output_type": "stream",
     "text": [
      "The autoreload extension is already loaded. To reload it, use:\n",
      "  %reload_ext autoreload\n"
     ]
    }
   ],
   "source": [
    "\n",
    "%load_ext autoreload\n",
    "%autoreload 2"
   ]
  },
  {
   "cell_type": "code",
   "execution_count": 58,
   "metadata": {},
   "outputs": [],
   "source": [
    "train_load,test_load=batchfy(batch_size=4)"
   ]
  },
  {
   "cell_type": "code",
   "execution_count": 59,
   "metadata": {},
   "outputs": [],
   "source": [
    "show_img=iter(train_load)"
   ]
  },
  {
   "cell_type": "code",
   "execution_count": 60,
   "metadata": {},
   "outputs": [
    {
     "data": {
      "image/png": "[encoded data removed]",
      "text/plain": [
       "<Figure size 432x288 with 1 Axes>"
      ]
     },
     "metadata": {
      "needs_background": "light"
     },
     "output_type": "display_data"
    }
   ],
   "source": [
    "for batch_i, (real_images, gender,glasses) in enumerate(train_load):\n",
    "    debug=real_images[0]\n",
    "    plt.imshow(debug.numpy().transpose(1,2,0))\n",
    "    break"
   ]
  },
  {
   "cell_type": "code",
   "execution_count": 72,
   "metadata": {},
   "outputs": [
    {
     "name": "stdout",
     "output_type": "stream",
     "text": [
      "model_loaded\n"
     ]
    },
    {
     "data": {
      "text/plain": [
       "torch.Size([1, 3, 64, 64])"
      ]
     },
     "execution_count": 72,
     "metadata": {},
     "output_type": "execute_result"
    }
   ],
   "source": [
    "Encoder=resnet.resnet18()\n",
    "Encoder.to(device)\n",
    "\n",
    "Decoder=invresnet.invresnet18()\n",
    "Decoder.to(device)\n",
    "\n",
    "Generator=GeneratorNet(Encoder,Decoder)\n",
    "Generator.to(device)\n",
    "Discriminator_reconstruct=DiscriminatorNet_reconstruction(3,64)\n",
    "Discriminator.to(device)\n",
    "\n",
    "Discriminator_feature=DiscriminatorNet_feature()\n",
    "Discriminator.to(device)\n",
    "print(\"model_loaded\")\n",
    "\n",
    "debug=torch.randn((1,99))\n",
    "debug.to(device)\n",
    "Decoder(debug).shape"
   ]
  },
  {
   "cell_type": "code",
   "execution_count": 73,
   "metadata": {},
   "outputs": [
    {
     "data": {
      "text/plain": [
       "torch.Size([2, 10])"
      ]
     },
     "execution_count": 73,
     "metadata": {},
     "output_type": "execute_result"
    }
   ],
   "source": [
    "Discriminator_feature(torch.rand(2,99).to(device)).shape"
   ]
  },
  {
   "cell_type": "code",
   "execution_count": 74,
   "metadata": {},
   "outputs": [],
   "source": [
    "dr_optimizer = optim.Adam(Discriminator_reconstruct.parameters(), lr=0.0002, betas=(0.5, 0.999))\n",
    "df_optimizer = optim.Adam(Discriminator_feature.parameters(), lr=0.0002, betas=(0.5, 0.999))\n",
    "g_optimizer = optim.Adam(Generator.parameters(), lr=0.0002, betas=(0.5, 0.999))\n",
    "e_optimizer = optim.Adam(Encoder.parameters(), lr=0.0002, betas=(0.5, 0.999))\n",
    "d_optimizer = optim.Adam(Decoder.parameters(), lr=0.0002, betas=(0.5, 0.999))\n",
    "#print(\"modules Loaded\")\n",
    "num_epochs=20"
   ]
  },
  {
   "cell_type": "code",
   "execution_count": 75,
   "metadata": {},
   "outputs": [],
   "source": [
    "import time"
   ]
  },
  {
   "cell_type": "code",
   "execution_count": 106,
   "metadata": {},
   "outputs": [],
   "source": [
    "def real_data_target(size):\n",
    "    data = torch.ones(size, 1, 8, 8)\n",
    "    if torch.cuda.is_available(): return data.cuda()\n",
    "    return data\n",
    "\n",
    "def fake_data_target(size):\n",
    "    data = torch.zeros(size, 1, 8, 8)\n",
    "    if torch.cuda.is_available(): return data.cuda()\n",
    "    return data\n",
    "\n",
    "def real_feature_target(size):\n",
    "    data = torch.ones(size, 10)\n",
    "    if torch.cuda.is_available(): return data.cuda()\n",
    "    return data\n",
    "\n",
    "def fake_feature_target(size):\n",
    "    data = torch.zeros(size, 1,10)\n",
    "    if torch.cuda.is_available(): return data.cuda()\n",
    "    return data\n",
    "\n",
    "def reconstruction_loss(optimizer,real_data,Generator):\n",
    "    reconstruction=Generator(real_data)\n",
    "    loss = nn.L1Loss()\n",
    "    optimizer.zero_grad()\n",
    "    error_recons=loss(real_data,reconstruction)\n",
    "    error_recons.backward()\n",
    "    optimizer.step()\n",
    "    return error_recons\n",
    "def d_adv_feature_loss(minimizing,real_data,fake_data,Discriminator,optimizer1,optimizer2):\n",
    "    loss=nn.BCELoss()\n",
    "    if minimizing:\n",
    "        optimizer1.zero_grad()\n",
    "        prediction_real = Discriminator(real_data)\n",
    "        error_real = loss(prediction_real, real_feature_target(real_data.size(0)))\n",
    "        error_real.backward()   \n",
    "        \n",
    "        prediction_fake = Discriminator(fake_data)\n",
    "        error_fake = loss(prediction_fake, fake_feature_target(real_data.size(0)))\n",
    "        error_fake.backward()\n",
    "        optimizer1.step()        \n",
    "        return error_real+error_fake\n",
    "    else:\n",
    "        optimizer2.zero_grad()\n",
    "        prediction = Discriminator(fake_data)\n",
    "        error = loss(prediction, real_feature_target(prediction.size(0)))\n",
    "        error.backward()\n",
    "        optimizer2.step()\n",
    "    return error\n",
    "\n",
    "def gen_image_loss(minimizing,\n",
    "                   real_data,\n",
    "                   fake_data,\n",
    "                   Discriminator,\n",
    "                   optimizer1,\n",
    "                   optimizer2):\n",
    "    def dloss_calc(optimizer, real_data, fake_data,Discriminator):\n",
    "        optimizer.zero_grad()\n",
    "        prediction_real = Discriminator(real_data)\n",
    "        error_real = loss(prediction_real, real_data_target(real_data.size(0)))\n",
    "        error_real.backward()\n",
    "        prediction_fake = Discriminator(fake_data)\n",
    "        error_fake = loss(prediction_fake, fake_data_target(real_data.size(0)))\n",
    "        error_fake.backward()\n",
    "        optimizer.step()\n",
    "        return error_real + error_fake, prediction_real, prediction_fake\n",
    "    def gloss_calc(optimizer, fake_data,Discriminator):\n",
    "        optimizer.zero_grad()\n",
    "        prediction = Discriminator(fake_data)\n",
    "        error = loss(prediction, real_data_target(prediction.size(0)))\n",
    "        error.backward()\n",
    "        optimizer.step()\n",
    "        return error\n",
    "    \n",
    "    loss = nn.BCELoss()\n",
    "        \n",
    "    if minimizing:\n",
    "        return dloss_calc(optimizer1,real_data,fake_data,Discriminator)\n",
    "    else:\n",
    "        return gloss_calc(optimizer2,fake_data,Discriminator)\n",
    "\n",
    "def noise_vector(size):\n",
    "    n = torch.randn(size, 1,99)\n",
    "    if torch.cuda.is_available(): return n.cuda() \n",
    "    return n\n",
    "\n",
    "def eval_generate(Decoder,num_images):\n",
    "    Generator.eval()\n",
    "    noi_input=noise_vector(num_images)\n",
    "    output=Decoder(noi_input)\n",
    "    output=output.detach().cpu()\n",
    "    plt.figure(figsize=(16, 16))\n",
    "    grid_border_size = 2\n",
    "    grid = utils.make_grid(output)\n",
    "    \n",
    "    plt.imshow(grid.numpy().transpose((1, 2, 0)))\n",
    "    plt.axis('off')\n",
    "    plt.ioff()\n",
    "    plt.show()\n",
    "    \n",
    "def train(num_epochs,Decoder,Generator,Discriminator_reconstruct,Discriminator_feature,d_optimizer,dr_optimizer,g_optimizer,train_load):\n",
    "    t_start = time.time()\n",
    "    duration_avg = 0.0\n",
    "    Encoder.train()\n",
    "    Decoder.train()\n",
    "    Generator.train()\n",
    "    Discriminator.train()\n",
    "    for epoch in range(num_epochs):\n",
    "        print(\"Epoch:\", epoch)\n",
    "        for batch_i, (real_images, gender,glasses) in enumerate(train_load):        \n",
    " \n",
    "            batch_size = real_images.size(0)\n",
    "            real_images=real_images.to(device,dtype=torch.float)\n",
    "            noi = noise_vector(real_images.size(0))\n",
    "\n",
    "            # 1.Train Discriminator\n",
    "            fake_data = Decoder(noi).detach()\n",
    "\n",
    "            d_error, d_pred_real, d_pred_fake =gen_image_loss(True,\n",
    "                                                              real_images.float(), \n",
    "                                                              fake_data,Discriminator_reconstruct,\n",
    "                                                              dr_optimizer,d_optimizer)\n",
    "    \n",
    "            # 2. Train Generator\n",
    "            fake_data = Decoder(noi)#noise(real_batch.size(0)))\n",
    "            # Train G\n",
    "            g_error = gen_image_loss(False,                                    \n",
    "                            real_images.float(), fake_data,Discriminator_reconstruct,dr_optimizer,d_optimizer)\n",
    "            # 3. Train Reconstruction\n",
    "            \n",
    "            recons_loss=reconstruction_loss(g_optimizer,real_images.float(),Generator)\n",
    "            \n",
    "            # Display Progress\n",
    "            if (batch_i) % 100 == 0:\n",
    "                print(\"Discriminator_Error: \", d_error.item(),\" Generator_Error: \", g_error.item(),\" Recons_Error: \", recons_loss.item())\n",
    "    \n",
    "        t_end = time.time()\n",
    "        duration_avg = (t_end - t_start) / (epoch + 1.0)\n",
    "        print(\"Elapsed Time: \",duration_avg)\n",
    "        torch.save(Generator,'Generator.h')\n",
    "        torch.save(Discriminator,'Discriminator.h')\n",
    "        eval_generate(Generator,8)"
   ]
  },
  {
   "cell_type": "code",
   "execution_count": 107,
   "metadata": {},
   "outputs": [
    {
     "name": "stdout",
     "output_type": "stream",
     "text": [
      "Epoch: 0\n",
      "Discriminator_Error:  1.3360233306884766  Generator_Error:  0.7544876337051392  Recons_Error:  0.24677908420562744\n",
      "Discriminator_Error:  1.1676385402679443  Generator_Error:  0.8440765142440796  Recons_Error:  0.25656136870384216\n",
      "Discriminator_Error:  1.3623201847076416  Generator_Error:  0.7643018364906311  Recons_Error:  0.18126916885375977\n"
     ]
    },
    {
     "ename": "KeyboardInterrupt",
     "evalue": "",
     "output_type": "error",
     "traceback": [
      "\u001b[1;31m---------------------------------------------------------------------------\u001b[0m",
      "\u001b[1;31mKeyboardInterrupt\u001b[0m                         Traceback (most recent call last)",
      "\u001b[1;32m<ipython-input-107-b22bd9b1e353>\u001b[0m in \u001b[0;36m<module>\u001b[1;34m\u001b[0m\n\u001b[1;32m----> 1\u001b[1;33m \u001b[0mtrain\u001b[0m\u001b[1;33m(\u001b[0m\u001b[1;36m10\u001b[0m\u001b[1;33m,\u001b[0m\u001b[0mDecoder\u001b[0m\u001b[1;33m,\u001b[0m\u001b[0mGenerator\u001b[0m\u001b[1;33m,\u001b[0m\u001b[0mDiscriminator_reconstruct\u001b[0m\u001b[1;33m,\u001b[0m\u001b[0mDiscriminator_feature\u001b[0m\u001b[1;33m,\u001b[0m\u001b[0md_optimizer\u001b[0m\u001b[1;33m,\u001b[0m\u001b[0mdr_optimizer\u001b[0m\u001b[1;33m,\u001b[0m\u001b[0mg_optimizer\u001b[0m\u001b[1;33m,\u001b[0m\u001b[0mtrain_load\u001b[0m\u001b[1;33m)\u001b[0m\u001b[1;33m\u001b[0m\u001b[1;33m\u001b[0m\u001b[0m\n\u001b[0m",
      "\u001b[1;32m<ipython-input-106-626abd13acae>\u001b[0m in \u001b[0;36mtrain\u001b[1;34m(num_epochs, Decoder, Generator, Discriminator_reconstruct, Discriminator_feature, d_optimizer, dr_optimizer, g_optimizer, train_load)\u001b[0m\n\u001b[0;32m    128\u001b[0m             \u001b[1;31m# 3. Train Reconstruction\u001b[0m\u001b[1;33m\u001b[0m\u001b[1;33m\u001b[0m\u001b[1;33m\u001b[0m\u001b[0m\n\u001b[0;32m    129\u001b[0m \u001b[1;33m\u001b[0m\u001b[0m\n\u001b[1;32m--> 130\u001b[1;33m             \u001b[0mrecons_loss\u001b[0m\u001b[1;33m=\u001b[0m\u001b[0mreconstruction_loss\u001b[0m\u001b[1;33m(\u001b[0m\u001b[0mg_optimizer\u001b[0m\u001b[1;33m,\u001b[0m\u001b[0mreal_images\u001b[0m\u001b[1;33m.\u001b[0m\u001b[0mfloat\u001b[0m\u001b[1;33m(\u001b[0m\u001b[1;33m)\u001b[0m\u001b[1;33m,\u001b[0m\u001b[0mGenerator\u001b[0m\u001b[1;33m)\u001b[0m\u001b[1;33m\u001b[0m\u001b[1;33m\u001b[0m\u001b[0m\n\u001b[0m\u001b[0;32m    131\u001b[0m \u001b[1;33m\u001b[0m\u001b[0m\n\u001b[0;32m    132\u001b[0m             \u001b[1;31m# Display Progress\u001b[0m\u001b[1;33m\u001b[0m\u001b[1;33m\u001b[0m\u001b[1;33m\u001b[0m\u001b[0m\n",
      "\u001b[1;32m<ipython-input-106-626abd13acae>\u001b[0m in \u001b[0;36mreconstruction_loss\u001b[1;34m(optimizer, real_data, Generator)\u001b[0m\n\u001b[0;32m     24\u001b[0m     \u001b[0moptimizer\u001b[0m\u001b[1;33m.\u001b[0m\u001b[0mzero_grad\u001b[0m\u001b[1;33m(\u001b[0m\u001b[1;33m)\u001b[0m\u001b[1;33m\u001b[0m\u001b[1;33m\u001b[0m\u001b[0m\n\u001b[0;32m     25\u001b[0m     \u001b[0merror_recons\u001b[0m\u001b[1;33m=\u001b[0m\u001b[0mloss\u001b[0m\u001b[1;33m(\u001b[0m\u001b[0mreal_data\u001b[0m\u001b[1;33m,\u001b[0m\u001b[0mreconstruction\u001b[0m\u001b[1;33m)\u001b[0m\u001b[1;33m\u001b[0m\u001b[1;33m\u001b[0m\u001b[0m\n\u001b[1;32m---> 26\u001b[1;33m     \u001b[0merror_recons\u001b[0m\u001b[1;33m.\u001b[0m\u001b[0mbackward\u001b[0m\u001b[1;33m(\u001b[0m\u001b[1;33m)\u001b[0m\u001b[1;33m\u001b[0m\u001b[1;33m\u001b[0m\u001b[0m\n\u001b[0m\u001b[0;32m     27\u001b[0m     \u001b[0moptimizer\u001b[0m\u001b[1;33m.\u001b[0m\u001b[0mstep\u001b[0m\u001b[1;33m(\u001b[0m\u001b[1;33m)\u001b[0m\u001b[1;33m\u001b[0m\u001b[1;33m\u001b[0m\u001b[0m\n\u001b[0;32m     28\u001b[0m     \u001b[1;32mreturn\u001b[0m \u001b[0merror_recons\u001b[0m\u001b[1;33m\u001b[0m\u001b[1;33m\u001b[0m\u001b[0m\n",
      "\u001b[1;32m~\\Anaconda3\\lib\\site-packages\\torch\\tensor.py\u001b[0m in \u001b[0;36mbackward\u001b[1;34m(self, gradient, retain_graph, create_graph)\u001b[0m\n\u001b[0;32m    116\u001b[0m                 \u001b[0mproducts\u001b[0m\u001b[1;33m.\u001b[0m \u001b[0mDefaults\u001b[0m \u001b[0mto\u001b[0m\u001b[0;31m \u001b[0m\u001b[0;31m`\u001b[0m\u001b[0;31m`\u001b[0m\u001b[1;32mFalse\u001b[0m\u001b[0;31m`\u001b[0m\u001b[0;31m`\u001b[0m\u001b[1;33m.\u001b[0m\u001b[1;33m\u001b[0m\u001b[1;33m\u001b[0m\u001b[0m\n\u001b[0;32m    117\u001b[0m         \"\"\"\n\u001b[1;32m--> 118\u001b[1;33m         \u001b[0mtorch\u001b[0m\u001b[1;33m.\u001b[0m\u001b[0mautograd\u001b[0m\u001b[1;33m.\u001b[0m\u001b[0mbackward\u001b[0m\u001b[1;33m(\u001b[0m\u001b[0mself\u001b[0m\u001b[1;33m,\u001b[0m \u001b[0mgradient\u001b[0m\u001b[1;33m,\u001b[0m \u001b[0mretain_graph\u001b[0m\u001b[1;33m,\u001b[0m \u001b[0mcreate_graph\u001b[0m\u001b[1;33m)\u001b[0m\u001b[1;33m\u001b[0m\u001b[1;33m\u001b[0m\u001b[0m\n\u001b[0m\u001b[0;32m    119\u001b[0m \u001b[1;33m\u001b[0m\u001b[0m\n\u001b[0;32m    120\u001b[0m     \u001b[1;32mdef\u001b[0m \u001b[0mregister_hook\u001b[0m\u001b[1;33m(\u001b[0m\u001b[0mself\u001b[0m\u001b[1;33m,\u001b[0m \u001b[0mhook\u001b[0m\u001b[1;33m)\u001b[0m\u001b[1;33m:\u001b[0m\u001b[1;33m\u001b[0m\u001b[1;33m\u001b[0m\u001b[0m\n",
      "\u001b[1;32m~\\Anaconda3\\lib\\site-packages\\torch\\autograd\\__init__.py\u001b[0m in \u001b[0;36mbackward\u001b[1;34m(tensors, grad_tensors, retain_graph, create_graph, grad_variables)\u001b[0m\n\u001b[0;32m     91\u001b[0m     Variable._execution_engine.run_backward(\n\u001b[0;32m     92\u001b[0m         \u001b[0mtensors\u001b[0m\u001b[1;33m,\u001b[0m \u001b[0mgrad_tensors\u001b[0m\u001b[1;33m,\u001b[0m \u001b[0mretain_graph\u001b[0m\u001b[1;33m,\u001b[0m \u001b[0mcreate_graph\u001b[0m\u001b[1;33m,\u001b[0m\u001b[1;33m\u001b[0m\u001b[1;33m\u001b[0m\u001b[0m\n\u001b[1;32m---> 93\u001b[1;33m         allow_unreachable=True)  # allow_unreachable flag\n\u001b[0m\u001b[0;32m     94\u001b[0m \u001b[1;33m\u001b[0m\u001b[0m\n\u001b[0;32m     95\u001b[0m \u001b[1;33m\u001b[0m\u001b[0m\n",
      "\u001b[1;31mKeyboardInterrupt\u001b[0m: "
     ]
    }
   ],
   "source": [
    "train(20,Decoder,Generator,Discriminator_reconstruct,Discriminator_feature,d_optimizer,dr_optimizer,g_optimizer,train_load)"
   ]
  },
  {
   "cell_type": "code",
   "execution_count": 85,
   "metadata": {},
   "outputs": [
    {
     "data": {
      "text/plain": [
       "<torch.utils.data.dataloader.DataLoader at 0x2172b93fa90>"
      ]
     },
     "execution_count": 85,
     "metadata": {},
     "output_type": "execute_result"
    }
   ],
   "source": [
    "train_load"
   ]
  },
  {
   "cell_type": "code",
   "execution_count": null,
   "metadata": {},
   "outputs": [],
   "source": []
  }
 ],
 "metadata": {
  "kernelspec": {
   "display_name": "Python 3",
   "language": "python",
   "name": "python3"
  },
  "language_info": {
   "codemirror_mode": {
    "name": "ipython",
    "version": 3
   },
   "file_extension": ".py",
   "mimetype": "text/x-python",
   "name": "python",
   "nbconvert_exporter": "python",
   "pygments_lexer": "ipython3",
   "version": "3.6.9"
  }
 },
 "nbformat": 4,
 "nbformat_minor": 4
}
